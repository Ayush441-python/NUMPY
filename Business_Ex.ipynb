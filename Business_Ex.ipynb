{
 "cells": [
  {
   "cell_type": "markdown",
   "id": "921caa09",
   "metadata": {},
   "source": [
    "# Business Examples"
   ]
  },
  {
   "cell_type": "code",
   "execution_count": 1,
   "id": "0260477f",
   "metadata": {},
   "outputs": [],
   "source": [
    "import numpy as np\n",
    "import matplotlib.pyplot as plt"
   ]
  },
  {
   "cell_type": "code",
   "execution_count": 2,
   "id": "07400843",
   "metadata": {},
   "outputs": [
    {
     "name": "stdout",
     "output_type": "stream",
     "text": [
      "=== Zomato sales analysis ===\n",
      "\n",
      " Sales data shape (5, 5)\n",
      "\n",
      " Sample data for 1st three restro\n",
      " [[     1 150000 180000 220000 250000]\n",
      " [     2 120000 140000 160000 190000]\n",
      " [     3 200000 230000 260000 300000]]\n"
     ]
    }
   ],
   "source": [
    "#Data structure: [restaurant_id, 2021, 2022, 2023, 2024]\n",
    "\n",
    "sales_data = np.array([\n",
    "\n",
    "        [1, 150000, 180000, 220000, 250000],    # Paradise Biryani\n",
    "        [2, 120000, 140000, 160000, 190000],    # Beijing Bites\n",
    "        [3, 200000, 230000, 260000, 300000],    # Pizza Hub\n",
    "        [4, 180000, 210000, 240000, 270000],    # Burger Point\n",
    "        [5, 160000, 185000, 205000, 230000]     # Chai Point\n",
    "])\n",
    "\n",
    "print(\"=== Zomato sales analysis ===\")\n",
    "print(\"\\n Sales data shape\",sales_data.shape)           # Always find shape and size first\n",
    "print(\"\\n Sample data for 1st three restro\\n\",sales_data[:3,])       #[r0:rn , c0:cn]"
   ]
  },
  {
   "cell_type": "code",
   "execution_count": 3,
   "id": "c06d5c0e",
   "metadata": {},
   "outputs": [
    {
     "name": "stdout",
     "output_type": "stream",
     "text": [
      "[     15  810000  945000 1085000 1240000]\n",
      "[ 810000  945000 1085000 1240000]\n",
      "[150000 120000 200000 180000 160000]\n",
      "[200000 230000 260000 300000]\n",
      "[200000. 152500. 247500. 225000. 195000.]\n"
     ]
    }
   ],
   "source": [
    "# total sales per year\n",
    "print(np.sum(sales_data, axis=0))\n",
    "yearly_total = np.sum(sales_data[:,1:],axis=0)          #axis=0 for col\n",
    "print(yearly_total)                                     #axis=1 for row\n",
    "\n",
    "#minimum sales per resto\n",
    "min_sales = np.min(sales_data[:, 1:],axis=1)\n",
    "print(min_sales)\n",
    "\n",
    "#maximum sales per year\n",
    "max_sales = np.max(sales_data[:,1:],axis=0)\n",
    "print(max_sales)\n",
    "\n",
    "#avg sales per resto\n",
    "avg_sales = np.mean(sales_data[:,1:],axis=1)\n",
    "print(avg_sales)"
   ]
  },
  {
   "cell_type": "code",
   "execution_count": 4,
   "id": "efdbf520",
   "metadata": {},
   "outputs": [
    {
     "name": "stdout",
     "output_type": "stream",
     "text": [
      "[[150000 330000 550000 800000]\n",
      " [120000 260000 420000 610000]\n",
      " [200000 430000 690000 990000]\n",
      " [180000 390000 630000 900000]\n",
      " [160000 345000 550000 780000]]\n"
     ]
    },
    {
     "data": {
      "image/png": "[encoded data removed]",
      "text/plain": [
       "<Figure size 500x400 with 1 Axes>"
      ]
     },
     "metadata": {},
     "output_type": "display_data"
    }
   ],
   "source": [
    "cumsum = np.cumsum(sales_data[:,1:],axis=1)\n",
    "print(cumsum)\n",
    "\n",
    "plt.figure(figsize=(5,4))\n",
    "plt.plot(np.mean(cumsum,axis=0))\n",
    "plt.title(\"Average cumulative\")\n",
    "plt.xlabel(\"Years\")\n",
    "plt.ylabel(\"Sales\")\n",
    "plt.show()\n",
    "\n"
   ]
  },
  {
   "cell_type": "markdown",
   "id": "2cb30819",
   "metadata": {},
   "source": [
    "---"
   ]
  },
  {
   "cell_type": "code",
   "execution_count": 5,
   "id": "76176495",
   "metadata": {},
   "outputs": [
    {
     "name": "stdout",
     "output_type": "stream",
     "text": [
      "Vector addition: [ 7  9 11 13 15]\n",
      "\n",
      " Multiplication vector [ 6 14 24 36 50]\n",
      "\n",
      " Dot product: 130\n",
      "0.26554161733900966\n"
     ]
    }
   ],
   "source": [
    "vector1 = np.array([1,2,3,4,5])\n",
    "vector2 = np.array([6,7,8,9,10])\n",
    "\n",
    "print(\"Vector addition:\",vector1+vector2)\n",
    "print(\"\\n Multiplication vector\",vector1*vector2)\n",
    "print(\"\\n Dot product:\",np.dot(vector1,vector2))\n",
    "angle = np.arccos(np.dot(vector1,vector2)/(np.linalg.norm(vector1)*np.linalg.norm(vector2)))\n",
    "print(angle)"
   ]
  },
  {
   "cell_type": "markdown",
   "id": "7a897041",
   "metadata": {},
   "source": [
    "## Vectorized operation"
   ]
  },
  {
   "cell_type": "code",
   "execution_count": 6,
   "id": "b0215f0e",
   "metadata": {},
   "outputs": [
    {
     "name": "stdout",
     "output_type": "stream",
     "text": [
      "Vectorised Upper ['BIRYANI' 'CHINESE' 'PIZZA' 'BURGER' 'CAFE']\n"
     ]
    }
   ],
   "source": [
    "resto_types = np.array(['biryani','chinese','pizza','burger','cafe'])           #ye ek list hai \n",
    "\n",
    "vectorized_upper = np.vectorize(str.upper)     # (np.vectorize) se python ke normal method ko vectorized kar diya\n",
    "print(\"Vectorised Upper\",vectorized_upper(resto_types))        # vector pe vo method use karne ko\n"
   ]
  },
  {
   "cell_type": "code",
   "execution_count": 7,
   "id": "e4f9f7cc",
   "metadata": {},
   "outputs": [
    {
     "name": "stdout",
     "output_type": "stream",
     "text": [
      "[[12500.         15000.         18333.33333333 20833.33333333]\n",
      " [10000.         11666.66666667 13333.33333333 15833.33333333]\n",
      " [16666.66666667 19166.66666667 21666.66666667 25000.        ]\n",
      " [15000.         17500.         20000.         22500.        ]\n",
      " [13333.33333333 15416.66666667 17083.33333333 19166.66666667]]\n"
     ]
    }
   ],
   "source": [
    "monthly_avg = sales_data[:,1:] /12      #jab bhi koi normal operation with integer perform karte hai to\n",
    "                                        #to vo sub ke sath broadcaste hota hai\n",
    "\n",
    "print(monthly_avg)"
   ]
  },
  {
   "cell_type": "code",
   "execution_count": 8,
   "id": "2af0e787",
   "metadata": {},
   "outputs": [],
   "source": [
    "array1 = np.array([[1,2,3],[4,5,6]])\n",
    "array2 = np.random.rand(3,3)\n",
    "array3 = np.zeros((4,4))\n",
    "\n",
    "np.save('array1.npy',array1)    # np.save saves file\n",
    "np.save('array2.npy',array2)\n",
    "np.save('array3.npy',array3)"
   ]
  },
  {
   "cell_type": "code",
   "execution_count": 9,
   "id": "ef2e1770",
   "metadata": {},
   "outputs": [
    {
     "name": "stdout",
     "output_type": "stream",
     "text": [
      "[[1 2 3]\n",
      " [4 5 6]]\n"
     ]
    }
   ],
   "source": [
    "loaded_array1 = np.load('array1.npy')\n",
    "print(loaded_array1)"
   ]
  }
 ],
 "metadata": {
  "kernelspec": {
   "display_name": "venv",
   "language": "python",
   "name": "python3"
  },
  "language_info": {
   "codemirror_mode": {
    "name": "ipython",
    "version": 3
   },
   "file_extension": ".py",
   "mimetype": "text/x-python",
   "name": "python",
   "nbconvert_exporter": "python",
   "pygments_lexer": "ipython3",
   "version": "3.13.5"
  }
 },
 "nbformat": 4,
 "nbformat_minor": 5
}
