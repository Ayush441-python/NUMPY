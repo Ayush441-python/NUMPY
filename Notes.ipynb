{
 "cells": [
  {
   "cell_type": "markdown",
   "id": "e05b2823",
   "metadata": {},
   "source": [
    "# NUMPY"
   ]
  },
  {
   "cell_type": "markdown",
   "id": "12dfd10b",
   "metadata": {},
   "source": [
    "- stands for numerical python\n",
    "- used for effectively storing, analysing and manipulating of data\n",
    "- it is like list but too faster"
   ]
  },
  {
   "cell_type": "code",
   "execution_count": 2,
   "id": "4964db99",
   "metadata": {},
   "outputs": [],
   "source": [
    "import numpy as np"
   ]
  },
  {
   "cell_type": "markdown",
   "id": "f6a0aaea",
   "metadata": {},
   "source": [
    "## Creation of array"
   ]
  },
  {
   "cell_type": "markdown",
   "id": "3fad251a",
   "metadata": {},
   "source": [
    "### Creating array from list\n"
   ]
  },
  {
   "cell_type": "code",
   "execution_count": 3,
   "id": "50373c85",
   "metadata": {},
   "outputs": [
    {
     "name": "stdout",
     "output_type": "stream",
     "text": [
      "[1 2 3 4 5]\n",
      "[[1 2 3]\n",
      " [4 5 6]\n",
      " [7 8 9]]\n",
      "[[ 2  4  6  8 10 12 14 16]\n",
      " [ 4  6  8 10 12 14 16 18]\n",
      " [ 6  8 10 12 14 16 18 20]]\n"
     ]
    }
   ],
   "source": [
    "arr_1d = np.array([1,2,3,4,5])\n",
    "print(arr_1d)\n",
    "\n",
    "\n",
    "arr_2d = np.array([[1,2,3],[4,5,6],[7,8,9]])        #Here inner list is treated as row\n",
    "print(arr_2d)\n",
    "\n",
    "\n",
    "arr=np.array([range(i, i + 15,2) for i in [2, 4, 6]])\n",
    "print(arr)"
   ]
  },
  {
   "cell_type": "markdown",
   "id": "24e0b1af",
   "metadata": {},
   "source": [
    "### List vs numpy"
   ]
  },
  {
   "cell_type": "code",
   "execution_count": 4,
   "id": "1b4cb942",
   "metadata": {},
   "outputs": [
    {
     "name": "stdout",
     "output_type": "stream",
     "text": [
      "Multiplication of list [1, 2, 3, 1, 2, 3]\n",
      "Multiplication of array [3 6 9]\n",
      "\n",
      " List operation time 0.0886850357055664\n",
      "\n",
      " Numpy operation time 0.0016546249389648438\n"
     ]
    }
   ],
   "source": [
    "py_list = [1,2,3]\n",
    "print(\"Multiplication of list\",py_list * 2)\n",
    "\n",
    "\n",
    "\n",
    "np_array = np.array([1,2,3])   #element vise multiplication\n",
    "print(\"Multiplication of array\",np_array * 3)\n",
    "\n",
    "\n",
    "import time                  # Also %timeout can use \n",
    "start = time.time()\n",
    "py_list = [i*2 for i in range(1000000)]\n",
    "print(\"\\n List operation time\", time.time() - start)\n",
    "\n",
    "start = time.time()\n",
    "np_array = np.arange(100000) *2 \n",
    "print(\"\\n Numpy operation time\", time.time() - start)"
   ]
  },
  {
   "cell_type": "markdown",
   "id": "70a056ac",
   "metadata": {},
   "source": [
    "### Creating array from scratch"
   ]
  },
  {
   "cell_type": "code",
   "execution_count": 5,
   "id": "e09faa2f",
   "metadata": {},
   "outputs": [
    {
     "name": "stdout",
     "output_type": "stream",
     "text": [
      "[0. 0. 0.]\n",
      "[[0. 0. 0.]\n",
      " [0. 0. 0.]\n",
      " [0. 0. 0.]\n",
      " [0. 0. 0.]]\n",
      "\n",
      "\n",
      "[[1. 1. 1. 1. 1.]\n",
      " [1. 1. 1. 1. 1.]\n",
      " [1. 1. 1. 1. 1.]\n",
      " [1. 1. 1. 1. 1.]]\n",
      "\n",
      "\n",
      "[[5 5 5 5 5]\n",
      " [5 5 5 5 5]\n",
      " [5 5 5 5 5]\n",
      " [5 5 5 5 5]]\n",
      "\n",
      "\n",
      "[ 0  3  6  9 12 15 18 21 24 27 30]\n",
      "\n",
      "\n",
      "[0.   0.25 0.5  0.75 1.  ]\n",
      "\n",
      "\n",
      "[[77.16388765  9.33335407 53.57417772]\n",
      " [58.47440955 44.93708267 72.25243622]\n",
      " [45.63065422 62.25132332 46.4655354 ]\n",
      " [57.49877411 80.00572174 48.49063774]]\n",
      "\n",
      "\n",
      "[[1 9 6 1]\n",
      " [1 8 5 1]\n",
      " [9 7 7 6]]\n",
      "\n",
      "\n",
      "[[1. 0. 0. 0.]\n",
      " [0. 1. 0. 0.]\n",
      " [0. 0. 1. 0.]\n",
      " [0. 0. 0. 1.]]\n",
      "\n",
      "\n",
      "[1. 1. 1. 1.]\n"
     ]
    }
   ],
   "source": [
    "zeros_1 = np.zeros((3))\n",
    "zeros_2 = np.zeros((4,3))\n",
    "\n",
    "print(zeros_1)\n",
    "print(zeros_2)\n",
    "\n",
    "print(\"\\n\")\n",
    "\n",
    "ones = np.ones((4,5))\n",
    "print(ones)\n",
    "\n",
    "print(\"\\n\")\n",
    "\n",
    "full = np.full([4,5],5)\n",
    "print(full)\n",
    "\n",
    "print(\"\\n\")\n",
    "\n",
    "sequence = np.arange(0,31,3)\n",
    "print(sequence)\n",
    "\n",
    "print(\"\\n\")\n",
    "\n",
    "line = np.linspace(0, 1, 5)         # 5 is evenly spaced between 0 and 1\n",
    "print(line)\n",
    "\n",
    "print(\"\\n\")\n",
    "\n",
    "random = np.random.random((4,3)) * 100\n",
    "print(random)\n",
    "\n",
    "print(\"\\n\")\n",
    "\n",
    "rand = np.random.randint(0,10,(3,4))\n",
    "print(rand)\n",
    "\n",
    "print(\"\\n\")\n",
    "\n",
    "iden = np.eye(4)\n",
    "print(iden)\n",
    "\n",
    "print(\"\\n\")\n",
    "\n",
    "empty =  np.empty(4)\n",
    "print(empty)"
   ]
  },
  {
   "cell_type": "markdown",
   "id": "1e070135",
   "metadata": {},
   "source": [
    "### Data types"
   ]
  },
  {
   "cell_type": "markdown",
   "id": "a5072634",
   "metadata": {},
   "source": [
    "- bool :-  Boolean (True or False) stored as a byte\n",
    "- int32 :- Integer (–2147483648 to 2147483647)\n",
    "- int64 :- Integer (–9223372036854775808 to 9223372036854775807)\n",
    "- float32 :- Single-precision float: sign bit, 8 bits exponent, 23 bits mantissa\n",
    "- float64 :- Double-precision float: sign bit, 11 bits exponent, 52 bits mantissa\n",
    "\n"
   ]
  },
  {
   "cell_type": "code",
   "execution_count": 6,
   "id": "0486c369",
   "metadata": {},
   "outputs": [
    {
     "name": "stdout",
     "output_type": "stream",
     "text": [
      "[1. 2. 3.]\n"
     ]
    }
   ],
   "source": [
    "print(np.array([1,2,3],dtype=float))"
   ]
  },
  {
   "cell_type": "markdown",
   "id": "8b24b7b7",
   "metadata": {},
   "source": [
    "---"
   ]
  },
  {
   "cell_type": "markdown",
   "id": "1369073c",
   "metadata": {},
   "source": [
    "## Basics of numpy array"
   ]
  },
  {
   "cell_type": "markdown",
   "id": "799b93f9",
   "metadata": {},
   "source": [
    "### Attributes\n",
    "- Determine size/shape/dimension/memory consuption & data type of array"
   ]
  },
  {
   "cell_type": "code",
   "execution_count": 7,
   "id": "5fa07b77",
   "metadata": {},
   "outputs": [
    {
     "name": "stdout",
     "output_type": "stream",
     "text": [
      "[5 0 3 3 7 9]\n",
      "\n",
      "\n",
      "[[3 5 2 4]\n",
      " [7 6 8 8]\n",
      " [1 6 7 7]]\n",
      "\n",
      "\n",
      "[[[8 1 5 9]\n",
      "  [8 9 4 3]\n",
      "  [0 3 5 0]]\n",
      "\n",
      " [[2 3 8 1]\n",
      "  [3 3 3 7]\n",
      "  [0 1 9 9]]]\n",
      "\n",
      "\n",
      "Dimension: 3\n",
      "Shape: (2, 3, 4)\n",
      "Size: 24\n",
      "Data type: int32\n",
      "Item size: 4\n"
     ]
    }
   ],
   "source": [
    "np.random.seed(0)  # seed for reproducibility\n",
    "x1 = np.random.randint(10, size=6)  # One-dimensional array\n",
    "x2 = np.random.randint(10, size=(3, 4))  # Two-dimensional array\n",
    "x3 = np.random.randint(10, size=(2, 3, 4))  # Three-dimensional array\n",
    "\n",
    "\n",
    "print(x1)\n",
    "print(\"\\n\")\n",
    "print(x2)\n",
    "print(\"\\n\")\n",
    "print(x3)\n",
    "\n",
    "print(\"\\n\")\n",
    "\n",
    "print(\"Dimension:\",x3.ndim)\n",
    "print(\"Shape:\",x3.shape)             #(@,)   @ = coloum\n",
    "print(\"Size:\",x3.size)               # give number of ele\n",
    "print(\"Data type:\",x3.dtype)\n",
    "print(\"Item size:\",x3.itemsize)"
   ]
  },
  {
   "cell_type": "markdown",
   "id": "8db3a7cb",
   "metadata": {},
   "source": [
    "### Indexing\n",
    "- Getting and Setting value of individual ele"
   ]
  },
  {
   "cell_type": "code",
   "execution_count": 8,
   "id": "ccdc03af",
   "metadata": {},
   "outputs": [
    {
     "name": "stdout",
     "output_type": "stream",
     "text": [
      "2\n",
      "8\n",
      "9\n",
      "\n",
      "\n",
      "[[3 5 2 4]\n",
      " [7 6 8 8]\n",
      " [1 6 7 7]]\n",
      "8\n",
      "7\n",
      "[[ 3  5  2  4]\n",
      " [ 7  6 99  8]\n",
      " [ 1  6  7  7]]\n"
     ]
    }
   ],
   "source": [
    "x = np.array([2,4,6,8,3,6,9])\n",
    "print(x[0])\n",
    "print(x[3])\n",
    "print(x[-1])\n",
    "\n",
    "print(\"\\n\")\n",
    "\n",
    "y=np.array([[3, 5, 2, 4],[7, 6, 8, 8],[1, 6, 7, 7]])\n",
    "print(y)\n",
    "print(y[1,2])       # 1st row 2nd col\n",
    "print(y[2,3])       # 2nd row 3rd col\n",
    "\n",
    "y[1,2]=99           # can change individual ele\n",
    "print(y)"
   ]
  },
  {
   "cell_type": "markdown",
   "id": "7d84ffc8",
   "metadata": {},
   "source": [
    "### Slicing\n",
    "\n",
    "- Getting and Setting of subarray by main array\n",
    "\n",
    "       x[start:stop:step]\n",
    "       [R0:Rn:Rs,C0:Cn:Cs]"
   ]
  },
  {
   "cell_type": "code",
   "execution_count": 9,
   "id": "7cadb433",
   "metadata": {},
   "outputs": [
    {
     "name": "stdout",
     "output_type": "stream",
     "text": [
      "[0 1 2 3 4]\n",
      "[ 5  6  7  8  9 10]\n",
      "[4 5 6]\n",
      "[10  9  8  7  6  5  4  3  2  1  0]\n",
      "\n",
      "\n",
      "[[3 5 2 4]\n",
      " [7 6 8 8]\n",
      " [1 6 7 7]]\n",
      "[[3 5]\n",
      " [7 6]]\n",
      "[[3 2]\n",
      " [7 8]\n",
      " [1 7]]\n",
      "[[7 7 6 1]\n",
      " [8 8 6 7]\n",
      " [4 2 5 3]]\n",
      "[3 7 1]\n",
      "[7 6 8 8]\n",
      "\n",
      "\n",
      "\n",
      "\n",
      "[[12  5]\n",
      " [ 7  8]]\n",
      "[[99  5]\n",
      " [ 7  8]]\n",
      "[[12  5  2  4]\n",
      " [ 7  8  8  6]\n",
      " [ 1  6  7  7]]\n"
     ]
    }
   ],
   "source": [
    "x= np.arange(11)\n",
    "print(x[:5])\n",
    "print(x[5:])\n",
    "print(x[4:7])\n",
    "print(x[::-1])      # reversed array\n",
    "\n",
    "print(\"\\n\")\n",
    "\n",
    "y=np.array([[3, 5, 2, 4],[7, 6, 8, 8],[1, 6, 7, 7]])\n",
    "print(y)\n",
    "print(y[:2,:2])\n",
    "print(y[:3,::2])\n",
    "print(y[::-1,::-1])\n",
    "print(y[:,0])\n",
    "print(y[1,:])       # ==y[1]\n",
    "\n",
    "print(\"\\n\\n\\n\")\n",
    "# it return view rather than copy i.e.,\n",
    "# if we change something in array its subarray also changed\n",
    "\n",
    "z = np.array([[12,5,2,4],[7,8,8,6],[1,6,7,7]])\n",
    "z_subcpy = z[:2,:2].copy()\n",
    "print(z_subcpy)\n",
    "z_subcpy[0,0]=99\n",
    "print(z_subcpy)\n",
    "print(z)\n",
    "\n"
   ]
  },
  {
   "cell_type": "markdown",
   "id": "dbe40449",
   "metadata": {},
   "source": [
    "### Reshaping\n",
    "- Changing shape of array"
   ]
  },
  {
   "cell_type": "code",
   "execution_count": 10,
   "id": "69de639e",
   "metadata": {},
   "outputs": [
    {
     "name": "stdout",
     "output_type": "stream",
     "text": [
      "[[1 2 3]\n",
      " [4 5 6]\n",
      " [7 8 9]]\n",
      "[[1 2 3]\n",
      " [4 5 6]]\n",
      "\n",
      "\n",
      "Original Array: [ 0  1  2  3  4  5  6  7  8  9 10 11]\n",
      "\n",
      " Reshaped Array:\n",
      " [[ 0  1  2  3]\n",
      " [ 4  5  6  7]\n",
      " [ 8  9 10 11]]\n",
      "\n",
      " Flattened Array: [ 0  1  2  3  4  5  6  7  8  9 10 11]\n",
      "\n",
      " Ravaled Array: [ 0  1  2  3  4  5  6  7  8  9 10 11]\n",
      "\n",
      " Transposed Array:\n",
      " [[ 0  4  8]\n",
      " [ 1  5  9]\n",
      " [ 2  6 10]\n",
      " [ 3  7 11]]\n"
     ]
    }
   ],
   "source": [
    "grid = np.arange(1, 10).reshape((3, 3))\n",
    "print(grid)\n",
    "                                # Here no. of ele in range must be equal size\n",
    "x = np.array([1,2,3,4,5,6])\n",
    "print( x.reshape(2,3))\n",
    "\n",
    "print(\"\\n\")\n",
    "\n",
    "arr = np.arange(12)\n",
    "print(\"Original Array:\",arr)\n",
    "\n",
    "reshaped = arr.reshape((3, 4))           #Reshape karenga 3-row,4-coloum me\n",
    "print(\"\\n Reshaped Array:\\n\",reshaped)\n",
    "\n",
    "\n",
    "flattened = reshaped.flatten()          #2D array ko 1D me convert karenga\n",
    "print(\"\\n Flattened Array:\",flattened)\n",
    "\n",
    "\n",
    "ravaled = reshaped.ravel()              #It return view instead of copy (flattened copy return karta hai)\n",
    "print(\"\\n Ravaled Array:\",ravaled)\n",
    "\n",
    "transpose = reshaped.T\n",
    "print(\"\\n Transposed Array:\\n\",transpose)"
   ]
  },
  {
   "cell_type": "markdown",
   "id": "163e326b",
   "metadata": {},
   "source": [
    "### Joining\n",
    "- Combining multiple arrays in one \n",
    "\n",
    "        axis=1 :- row / axis=0 :- coloum"
   ]
  },
  {
   "cell_type": "code",
   "execution_count": 11,
   "id": "77b30dc6",
   "metadata": {},
   "outputs": [
    {
     "name": "stdout",
     "output_type": "stream",
     "text": [
      "[ 1  2  3  9  8  7 11 22 33]\n",
      "\n",
      "\n",
      "Original:\n",
      " [[1 2]\n",
      " [3 4]]\n",
      "\n",
      "\n",
      "New row:\n",
      " [[1 2]\n",
      " [3 4]\n",
      " [5 6]]\n",
      "\n",
      "\n",
      "New coloum:\n",
      " [[1 2 7]\n",
      " [3 4 8]]\n",
      "\n",
      "\n",
      "[[[ 3  2]\n",
      "  [ 5  7]\n",
      "  [ 2  4]\n",
      "  [ 4  3]]\n",
      "\n",
      " [[ 7  8]\n",
      "  [ 6  9]\n",
      "  [ 8  6]\n",
      "  [ 8  4]]\n",
      "\n",
      " [[ 1  5]\n",
      "  [ 6  6]\n",
      "  [ 7  4]\n",
      "  [ 7 12]]]\n"
     ]
    }
   ],
   "source": [
    "x = np.array([1,2,3])\n",
    "y = np.array([9,8,7])\n",
    "z = np.array([11,22,33])\n",
    "print(np.concatenate([x,y,z]))\n",
    "\n",
    "\n",
    "print(\"\\n\")\n",
    "\n",
    "\n",
    "original = np.array([[1,2],[3,4]])\n",
    "new_row = np.array([[5,6]])\n",
    "with_new_row = np.vstack((original, new_row))          #vstack add new row\n",
    "print(\"Original:\\n\",original)\n",
    "print(\"\\n\")\n",
    "print(\"New row:\\n\",with_new_row)\n",
    "print(\"\\n\")\n",
    "new_col = np.array([[7],[8]])\n",
    "with_new_col = np.hstack((original, new_col))          #hstack add new coloum\n",
    "print(\"New coloum:\\n\",with_new_col)\n",
    "\n",
    "\n",
    "print(\"\\n\")\n",
    "\n",
    "\n",
    "y=np.array([[3, 5, 2, 4],[7, 6, 8, 8],[1, 6, 7, 7]])    # dstack for 3D array\n",
    "x=np.array([[2,7,4,3],[8,9,6,4],[5,6,4,12]])\n",
    "print(np.dstack([y,x]))"
   ]
  },
  {
   "cell_type": "markdown",
   "id": "75e898dc",
   "metadata": {},
   "source": [
    "- Array Compatibility"
   ]
  },
  {
   "cell_type": "code",
   "execution_count": 12,
   "id": "800edfe4",
   "metadata": {},
   "outputs": [
    {
     "name": "stdout",
     "output_type": "stream",
     "text": [
      "Compatibility Shapes True\n"
     ]
    }
   ],
   "source": [
    "a = np.array([1,2,3])\n",
    "b = np.array([4,5,6])\n",
    "c = np.array([7,8,9])\n",
    "\n",
    "print(\"Compatibility Shapes\",a.shape==b.shape)      #use when to check shape is equal"
   ]
  },
  {
   "cell_type": "markdown",
   "id": "d3095752",
   "metadata": {},
   "source": [
    "### Spliting\n",
    "- Splitting one array in many"
   ]
  },
  {
   "cell_type": "code",
   "execution_count": 13,
   "id": "3896df74",
   "metadata": {},
   "outputs": [
    {
     "name": "stdout",
     "output_type": "stream",
     "text": [
      "[ 1  2  3 99] [33 41 42] [47]\n",
      "\n",
      "\n",
      "[[ 1  2  3  4]\n",
      " [ 5  6  7  8]\n",
      " [ 9 10 11 12]\n",
      " [13 14 15 16]]\n",
      "[[ 1  2  3]\n",
      " [ 5  6  7]\n",
      " [ 9 10 11]\n",
      " [13 14 15]]\n",
      "[[ 4]\n",
      " [ 8]\n",
      " [12]\n",
      " [16]]\n",
      "[[ 1  2  3  4]\n",
      " [ 5  6  7  8]\n",
      " [ 9 10 11 12]]\n",
      "[[13 14 15 16]]\n"
     ]
    }
   ],
   "source": [
    "x = np.array([1,2,3,99,33,41,42,47])\n",
    "x1,x2,x3 = np.split(x,[4,7])\n",
    "print(x1,x2,x3)\n",
    "\n",
    "\n",
    "print(\"\\n\")\n",
    "\n",
    "\n",
    "grid = np.arange(1,17).reshape([4,4])\n",
    "print(grid)\n",
    "upper,lower = np.hsplit(grid ,[3])\n",
    "print(upper)\n",
    "print(lower)\n",
    "upper,lower = np.vsplit(grid ,[3])\n",
    "print(upper)\n",
    "print(lower)"
   ]
  },
  {
   "cell_type": "markdown",
   "id": "795afe86",
   "metadata": {},
   "source": [
    "- Deletation of ele\n"
   ]
  },
  {
   "cell_type": "code",
   "execution_count": 14,
   "id": "7e0f5e93",
   "metadata": {},
   "outputs": [
    {
     "name": "stdout",
     "output_type": "stream",
     "text": [
      "Array after deletation [1 2 4 5]\n"
     ]
    }
   ],
   "source": [
    "arr = np.array([1,2,3,4,5])\n",
    "deleted = np.delete(arr,2)\n",
    "print(\"Array after deletation\",deleted)"
   ]
  },
  {
   "cell_type": "markdown",
   "id": "7dad9b70",
   "metadata": {},
   "source": [
    "---"
   ]
  },
  {
   "cell_type": "markdown",
   "id": "a9652458",
   "metadata": {},
   "source": [
    "## Ufunction"
   ]
  },
  {
   "cell_type": "markdown",
   "id": "ce9ea676",
   "metadata": {},
   "source": [
    "- Ufunc in numpy is a function that operates element wise on array"
   ]
  },
  {
   "cell_type": "markdown",
   "id": "8ab05628",
   "metadata": {},
   "source": [
    "### Arthmetic Operation"
   ]
  },
  {
   "cell_type": "code",
   "execution_count": 15,
   "id": "5e665122",
   "metadata": {},
   "outputs": [
    {
     "name": "stdout",
     "output_type": "stream",
     "text": [
      "[ 0  1  2  3  4  5  6  7  8  9 10]\n",
      "[ 3  4  5  6  7  8  9 10 11 12 13]\n",
      "[-5 -4 -3 -2 -1  0  1  2  3  4  5]\n",
      "[ 0  5 10 15 20 25 30 35 40 45 50]\n",
      "[   1    2    4    8   16   32   64  128  256  512 1024]\n",
      "[  0   1   4   9  16  25  36  49  64  81 100]\n",
      "\n",
      "[0 1 0 1 0 1 0 1 0 1 0]\n",
      "[0 1 2 0 1 2 0 1 2 0 1]\n",
      "\n",
      "[0 0 1 1 2 2 3 3 4 4 5]\n",
      "[0 0 0 1 1 1 2 2 2 3 3]\n",
      "\n",
      "[ 0  1  2  3  4  5  6  7  8  9 10]\n"
     ]
    }
   ],
   "source": [
    "x = np.arange(11)\n",
    "print(x)\n",
    "print(np.add(x,3))\n",
    "print(np.subtract(x,5))\n",
    "print(np.multiply(x,5))\n",
    "print(np.power(2,x))     # 2**x \n",
    "print(np.power(x,2))     # x**2\n",
    "print(\"\")\n",
    "print(np.mod(x,2))       # x%2\n",
    "print(np.mod(x,3))\n",
    "print(\"\")\n",
    "print(np.floor_divide(x,2))\n",
    "print(np.floor_divide(x,3))\n",
    "print(\"\")\n",
    "print(np.abs(x))"
   ]
  },
  {
   "cell_type": "markdown",
   "id": "e8630f9c",
   "metadata": {},
   "source": [
    "### Trigonometric Operation"
   ]
  },
  {
   "cell_type": "code",
   "execution_count": 16,
   "id": "6681b49a",
   "metadata": {},
   "outputs": [
    {
     "name": "stdout",
     "output_type": "stream",
     "text": [
      "[0.         1.57079633 3.14159265]\n",
      "sin(0)= [0.0000000e+00 1.0000000e+00 1.2246468e-16]\n",
      "cos(0)= [ 1.000000e+00  6.123234e-17 -1.000000e+00]\n",
      "tan(0)= [ 0.00000000e+00  1.63312394e+16 -1.22464680e-16]\n",
      "\n",
      "x         =  [-1, 0, 1]\n",
      "arcsin(x) =  [-1.57079633  0.          1.57079633]\n",
      "arccos(x) =  [3.14159265 1.57079633 0.        ]\n",
      "arctan(x) =  [-0.78539816  0.          0.78539816]\n"
     ]
    }
   ],
   "source": [
    "theta = np.linspace(0,np.pi,3)        # This will give 0, half pie and pie\n",
    "print(theta)\n",
    "print(\"sin(0)=\",(np.sin(theta)))\n",
    "print(\"cos(0)=\",(np.cos(theta)))\n",
    "print(\"tan(0)=\",(np.tan(theta)))\n",
    "\n",
    "print()\n",
    "\n",
    "x = [-1, 0, 1]\n",
    "print(\"x         = \", x)\n",
    "print(\"arcsin(x) = \", np.arcsin(x))\n",
    "print(\"arccos(x) = \", np.arccos(x))\n",
    "print(\"arctan(x) = \", np.arctan(x))"
   ]
  },
  {
   "cell_type": "markdown",
   "id": "31f4d7f3",
   "metadata": {},
   "source": [
    "### Exp & Log Operation"
   ]
  },
  {
   "cell_type": "code",
   "execution_count": 17,
   "id": "ed10575e",
   "metadata": {},
   "outputs": [
    {
     "name": "stdout",
     "output_type": "stream",
     "text": [
      "x     = [1, 2, 3]\n",
      "e^x   = [ 2.71828183  7.3890561  20.08553692]\n",
      "2^x   = [2. 4. 8.]\n",
      "3^x   = [ 3  9 27]\n",
      "\n",
      "\n",
      "x        = [1, 2, 4, 10]\n",
      "ln(x)    = [0.         0.69314718 1.38629436 2.30258509]\n",
      "log2(x)  = [0.         1.         2.         3.32192809]\n",
      "log10(x) = [0.         0.30103    0.60205999 1.        ]\n",
      "\n",
      "\n",
      "exp(x) - 1 = [0.         0.0010005  0.01005017 0.10517092]\n",
      "log(1 + x) = [0.         0.0009995  0.00995033 0.09531018]\n"
     ]
    }
   ],
   "source": [
    "x = [1, 2, 3]\n",
    "print(\"x     =\", x)\n",
    "print(\"e^x   =\", np.exp(x))\n",
    "print(\"2^x   =\", np.exp2(x))\n",
    "print(\"3^x   =\", np.power(3, x))\n",
    "\n",
    "print(\"\\n\")\n",
    "\n",
    "x = [1, 2, 4, 10]\n",
    "print(\"x        =\", x)\n",
    "print(\"ln(x)    =\", np.log(x))\n",
    "print(\"log2(x)  =\", np.log2(x))\n",
    "print(\"log10(x) =\", np.log10(x))\n",
    "\n",
    "print(\"\\n\")\n",
    "\n",
    "x = [0, 0.001, 0.01, 0.1]           #used when x is very small for precise calculation\n",
    "print(\"exp(x) - 1 =\", np.expm1(x))\n",
    "print(\"log(1 + x) =\", np.log1p(x))"
   ]
  },
  {
   "cell_type": "markdown",
   "id": "c6b302d1",
   "metadata": {},
   "source": [
    "- Inverse the value"
   ]
  },
  {
   "cell_type": "code",
   "execution_count": 18,
   "id": "489d6832",
   "metadata": {},
   "outputs": [
    {
     "name": "stdout",
     "output_type": "stream",
     "text": [
      "[1.         0.2        0.125      0.25       0.33333333]\n"
     ]
    }
   ],
   "source": [
    "values = np.random.randint(1, 10, size=5)\n",
    "print(1.0/values)"
   ]
  },
  {
   "cell_type": "markdown",
   "id": "690aec0a",
   "metadata": {},
   "source": [
    "### Suming / minimum & maximum"
   ]
  },
  {
   "cell_type": "code",
   "execution_count": 19,
   "id": "9dbe259c",
   "metadata": {},
   "outputs": [
    {
     "name": "stdout",
     "output_type": "stream",
     "text": [
      "47.279383951251766\n",
      "0.9999997207656334\n",
      "500385.08749075513\n",
      "7.071203171893359e-07\n",
      "604 μs ± 70.2 μs per loop (mean ± std. dev. of 7 runs, 1,000 loops each)\n",
      "69.7 ms ± 1.95 ms per loop (mean ± std. dev. of 7 runs, 10 loops each)\n",
      "\n",
      "\n",
      "[[0.5488135  0.71518937 0.60276338 0.54488318]\n",
      " [0.4236548  0.64589411 0.43758721 0.891773  ]\n",
      " [0.96366276 0.38344152 0.79172504 0.52889492]]\n",
      "7.478282790980994\n",
      "0.002129886612759326\n",
      "0.6231902325817494\n",
      "0.5757884399994844\n",
      "0.17751915478163727\n",
      "0.031513050314386885\n",
      "0.3834415188257777\n",
      "0.9636627605010293\n",
      "[0.71518937 0.891773   0.96366276]\n",
      "[0.96366276 0.71518937 0.79172504 0.891773  ]\n",
      "9\n",
      "8\n",
      "0.5060679926303515\n",
      "0.7343232842999807\n"
     ]
    }
   ],
   "source": [
    "np.random.seed(0)\n",
    "A = np.random.random(100)\n",
    "print(np.sum(A))\n",
    "\n",
    "big_array = np.random.rand(1000000)\n",
    "print(np.max(big_array))\n",
    "print(np.sum(big_array))\n",
    "print(np.min(big_array))\n",
    "%timeit np.max(big_array)\n",
    "%timeit max(big_array)\n",
    "\n",
    "print(\"\\n\")\n",
    "\n",
    "np.random.seed(0)\n",
    "m = np.random.random((3,4))\n",
    "n = np.random.random((3,4))\n",
    "print(m)\n",
    "print(np.sum(m))\n",
    "print(np.prod(m))\n",
    "print(np.mean(m))\n",
    "print(np.median(m))\n",
    "print(np.std(m))\n",
    "print(np.var(m))\n",
    "print(np.min(m))             # give min value of row or col\n",
    "print(np.max(m))\n",
    "print(np.max(m,axis=1))      # give max value across col  \n",
    "print(np.max(m,axis=0))      # give min value across row\n",
    "print(np.argmin(m))          # find index of min value\n",
    "print(np.argmax(m))\n",
    "print(np.percentile(m,25))\n",
    "print(np.percentile(m,75))"
   ]
  },
  {
   "cell_type": "markdown",
   "id": "c7db1b85",
   "metadata": {},
   "source": [
    "---"
   ]
  },
  {
   "cell_type": "markdown",
   "id": "fa4ba35f",
   "metadata": {},
   "source": [
    "## Broadcasting"
   ]
  },
  {
   "cell_type": "markdown",
   "id": "40967fa4",
   "metadata": {},
   "source": [
    "- Operation of array of different size "
   ]
  },
  {
   "cell_type": "code",
   "execution_count": 20,
   "id": "63918d67",
   "metadata": {},
   "outputs": [
    {
     "name": "stdout",
     "output_type": "stream",
     "text": [
      "[6 7 8]\n",
      "[11 12 13]\n",
      "[[1 2 3]\n",
      " [2 3 4]\n",
      " [3 4 5]]\n",
      "\n",
      "\n",
      "(3,)\n",
      "[0 1 2]\n",
      "(2, 3)\n",
      "[[1. 2. 3.]\n",
      " [1. 2. 3.]]\n",
      "[0 1 2 3]\n",
      "[[0]\n",
      " [1]\n",
      " [2]]\n",
      "[[0 1 2 3]\n",
      " [1 2 3 4]\n",
      " [2 3 4 5]]\n"
     ]
    }
   ],
   "source": [
    "a = np.array([1,2,3])\n",
    "b = np.array([5,5,5])\n",
    "print(a+b)\n",
    "print(a+10)             # Here we can think that 10 is stretches into [5,5,5]\n",
    "b = np.arange(3)[:,np.newaxis]          # a=[0,1,2]   b=[[0]\n",
    "                                        #                [1]\n",
    "                                        #                [2]]\n",
    "print(a+b)        \n",
    "\n",
    "print(\"\\n\")\n",
    "\n",
    "M = np.ones((2, 3))\n",
    "a = np.arange(3)\n",
    "print(a.shape)\n",
    "print(a)\n",
    "print(M.shape)\n",
    "print(M+a)\n",
    "\n",
    "\n",
    "a = np.arange(3).reshape((3,1))\n",
    "b = np.arange(4)\n",
    "print(b)\n",
    "print(a)\n",
    "print(a+b)"
   ]
  },
  {
   "cell_type": "markdown",
   "id": "4b2d40e6",
   "metadata": {},
   "source": [
    "### Rules\n",
    "- Find shapes (*,#) if *1 = *2 or #1 = #2 sum is possible\n",
    "- If single element [99] sum is possible by stretching in both row and col.\n",
    "- Stay aware with 1D arry do it manually."
   ]
  },
  {
   "cell_type": "markdown",
   "id": "88b8ff58",
   "metadata": {},
   "source": [
    "##  Comparisons, Masks, and Boolean Logic"
   ]
  },
  {
   "cell_type": "markdown",
   "id": "d87f9a15",
   "metadata": {},
   "source": [
    "### Boolean Logic"
   ]
  },
  {
   "cell_type": "code",
   "execution_count": 21,
   "id": "882a5c5f",
   "metadata": {},
   "outputs": [
    {
     "name": "stdout",
     "output_type": "stream",
     "text": [
      "[ True  True False False False]\n",
      "[ True  True False False False]\n",
      "[False False False  True  True]\n",
      "[False False False  True  True]\n",
      "[ True  True False  True  True]\n",
      "[ True  True False  True  True]\n",
      "[False False  True False False]\n",
      "[False False  True False False]\n",
      "\n",
      "\n",
      "[[5 0 3 3]\n",
      " [7 9 3 5]\n",
      " [2 4 7 6]]\n",
      "[[ True False  True  True]\n",
      " [ True  True  True  True]\n",
      " [False  True  True  True]]\n",
      "8\n",
      "8\n",
      "[2 2 2 2]\n",
      "True\n",
      "True\n",
      "[ True  True  True]\n",
      "\n",
      "\n",
      "np.logical_and(a > 2, b < 3): [False False False  True  True]\n",
      "np.logical_or(a > 2, b < 3): [False False  True  True  True]\n",
      "np.logical_not(a > 2): [ True  True False False False]\n",
      "Values in a where a > 2: [3 4 5]\n"
     ]
    }
   ],
   "source": [
    "x = np.array([1,2,3,4,5])\n",
    "print(x<3)\n",
    "print(np.less(x,3))\n",
    "print(x>3)\n",
    "print(np.greater(x,3))\n",
    "print(x!=3)\n",
    "print(np.not_equal(3,x))\n",
    "print(x==3)\n",
    "print(np.equal(x,3))\n",
    "\n",
    "\n",
    "print(\"\\n\")\n",
    "\n",
    "\n",
    "np.random.seed(0)\n",
    "rng = np.random.RandomState(0)\n",
    "x = rng.randint(10,size=(3,4))\n",
    "print(x)\n",
    "print(np.greater_equal(x,3))\n",
    "print(np.count_nonzero(x<6))\n",
    "print(np.sum(x<6))\n",
    "print(np.sum(x<6,axis=0))\n",
    "print(np.any(x>3))\n",
    "print(np.all(x>=0))  \n",
    "print(np.all(x>=0,axis=1))  \n",
    "\n",
    "\n",
    "print(\"\\n\")\n",
    "\n",
    "a = np.array([1, 2, 3, 4, 5])\n",
    "b = np.array([5, 4, 3, 2, 1])\n",
    "\n",
    "print(\"np.logical_and(a > 2, b < 3):\", np.bitwise_and(a > 2, b < 3))   # AND\n",
    "print(\"np.logical_or(a > 2, b < 3):\", np.logical_or(a > 2, b < 3))     # OR\n",
    "print(\"np.logical_not(a > 2):\", np.logical_not(a > 2))                 # NOT\n",
    "\n",
    "print(\"Values in a where a > 2:\",a[a > 2])"
   ]
  },
  {
   "cell_type": "markdown",
   "id": "ddece1e9",
   "metadata": {},
   "source": [
    "### Mask and Fancy indexing\n",
    "\n",
    "- Use Masking when filtering based on value or condition.\n",
    "- Use Fancy Indexing when selecting specific positions or elements directly by index."
   ]
  },
  {
   "cell_type": "code",
   "execution_count": null,
   "id": "0846dc02",
   "metadata": {},
   "outputs": [
    {
     "name": "stdout",
     "output_type": "stream",
     "text": [
      "[False False  True  True  True]\n",
      "[30 40 50]\n",
      "\n",
      "\n",
      "[[False False  True]\n",
      " [False  True  True]\n",
      " [False False  True]]\n",
      "[7 6 9 8]\n",
      "\n",
      "\n",
      "[1 0 3 0 5]\n"
     ]
    }
   ],
   "source": [
    "arr = np.array([10, 20, 30, 40, 50])\n",
    "\n",
    "# Create a mask where elements are greater than 25\n",
    "mask = arr > 25\n",
    "print(mask)           # [False False  True  True  True]\n",
    "\n",
    "# Use mask to filter values\n",
    "filtered = arr[mask]\n",
    "print(filtered)       # [30 40 50]\n",
    "\n",
    "\n",
    "print(\"\\n\")\n",
    "\n",
    "\n",
    "matrix = np.array([[1, 5, 7],\n",
    "                   [2, 6, 9],\n",
    "                   [3, 4, 8]])\n",
    "\n",
    "# Mask: values greater than 5\n",
    "mask = matrix > 5\n",
    "print(mask)\n",
    "\n",
    "# Apply mask\n",
    "print(matrix[mask])                 # Return 1D array with value of True condition\n",
    "\n",
    "\n",
    "print(\"\\n\")\n",
    "\n",
    "\n",
    "arr = np.array([1, 2, 3, 4, 5])\n",
    "\n",
    "# Replace even numbers with 0\n",
    "new_arr = np.where(arr % 2 == 0, 0, arr)\n",
    "print(new_arr)  \n"
   ]
  },
  {
   "cell_type": "code",
   "execution_count": 33,
   "id": "136b10f1",
   "metadata": {},
   "outputs": [
    {
     "name": "stdout",
     "output_type": "stream",
     "text": [
      "[20 40 50]\n",
      "\n",
      "\n",
      "[[11 12]\n",
      " [31 32]]\n",
      "\n",
      "\n",
      "[100   2 100   4 100]\n",
      "\n",
      "\n",
      "[20 60 70]\n"
     ]
    }
   ],
   "source": [
    "arr = np.array([10, 20, 30, 40, 50])\n",
    "\n",
    "# Select elements at index 1, 3, and 4\n",
    "idx = [1, 3, 4]\n",
    "print(arr[idx])  \n",
    "\n",
    "\n",
    "print(\"\\n\")\n",
    "\n",
    "\n",
    "matrix = np.array([[11, 12], \n",
    "                   [21, 22], \n",
    "                   [31, 32]])\n",
    "\n",
    "# Select rows at index 0 and 2\n",
    "print(matrix[[0, 2]])  \n",
    "\n",
    "print(\"\\n\")\n",
    "\n",
    "arr = np.array([1, 2, 3, 4, 5])\n",
    "arr[[0, 2, 4]] = 100                                # Change elements at index 0, 2, 4\n",
    "print(arr)  # Output: [100 2 100 4 100]\n",
    "\n",
    "print(\"\\n\")\n",
    "\n",
    "matrix = np.array([[10, 20, 30],\n",
    "                   [40, 50, 60],\n",
    "                   [70, 80, 90]])\n",
    "\n",
    "rows = [0, 1, 2]\n",
    "cols = [1, 2, 0]\n",
    "\n",
    "print(matrix[rows, cols])  # Output: [20 60 70]\n"
   ]
  },
  {
   "cell_type": "markdown",
   "id": "84ad0b12",
   "metadata": {},
   "source": [
    "### Sorting\n"
   ]
  },
  {
   "cell_type": "code",
   "execution_count": null,
   "id": "6b96fe59",
   "metadata": {},
   "outputs": [
    {
     "name": "stdout",
     "output_type": "stream",
     "text": [
      "Sorted Array [1 3 3 4 4 4 5 5 6 6 8]\n",
      "Index of Sorted Array [ 1  0  7  2  6 10  8  3  9  4  5]\n",
      "[1 3 3 4 4 4 5 5 6 6 8]\n",
      "Sorted 2D array by coloumn [[1 2]\n",
      " [2 3]\n",
      " [3 4]]\n",
      "\n",
      "\n",
      "[[6 3 7 4 6 9]\n",
      " [2 6 7 4 3 7]\n",
      " [7 2 5 4 1 7]\n",
      " [5 1 4 0 9 5]]\n",
      "\n",
      "\n",
      "[[2 1 4 0 1 5]\n",
      " [5 2 5 4 3 7]\n",
      " [6 3 7 4 6 7]\n",
      " [7 6 7 4 9 9]]\n",
      "[[3 4 6 6 7 9]\n",
      " [2 3 4 6 7 7]\n",
      " [1 2 4 5 7 7]\n",
      " [0 1 4 5 5 9]]\n",
      "\n",
      "\n",
      "[[3 4 6 6 7 9]\n",
      " [2 3 4 6 7 7]\n",
      " [1 2 4 5 7 7]\n",
      " [0 1 4 5 5 9]]\n",
      "[[1 3 0 4 2 5]\n",
      " [0 4 3 1 2 5]\n",
      " [4 1 3 2 0 5]\n",
      " [3 1 2 0 5 4]]\n"
     ]
    }
   ],
   "source": [
    "unsorted = np.array([3,1,4,5,6,8,4,3,5,6,4])\n",
    "print(\"Sorted Array\",np.sort(unsorted))\n",
    "print(\"Index of Sorted Array\",np.argsort(unsorted))\n",
    "print(np.partition(unsorted,6))\n",
    "arr_2d_unsorted = np.array([[3,4],[1,2],[2,3]])\n",
    "print(\"Sorted 2D array by coloumn\",np.sort(arr_2d_unsorted,axis=0))\n",
    "\n",
    "\n",
    "print(\"\\n\")\n",
    "\n",
    "\n",
    "rand = np.random.RandomState(42)\n",
    "X = rand.randint(0, 10, (4, 6))\n",
    "print(X)\n",
    "print(\"\\n\")\n",
    "print(np.sort(X,axis=0))\n",
    "print(np.sort(X,axis=1))\n",
    "print(\"\\n\")\n",
    "print(np.partition(X, 2, axis=1))           # Elements before it are smaller (in any order)\n",
    "print(np.argpartition(X, 2, axis=1))        #    and elements after it are larger."
   ]
  },
  {
   "cell_type": "markdown",
   "id": "a130bc57",
   "metadata": {},
   "source": [
    "### Structured Data"
   ]
  },
  {
   "cell_type": "code",
   "execution_count": 47,
   "id": "73f57ddd",
   "metadata": {},
   "outputs": [
    {
     "name": "stdout",
     "output_type": "stream",
     "text": [
      "[('name', '<U10'), ('age', '<i4'), ('weight', '<f8')]\n",
      "[('Ayush', 19, 50.) ('Ravi', 21, 60.) ('',  0,  0.) ('Laxmi', 18, 43.)]\n",
      "['Ayush' 'Ravi' '' 'Laxmi']\n",
      "('Laxmi', 18, 43.0)\n"
     ]
    },
    {
     "data": {
      "text/plain": [
       "array(['Ayush', 'Ravi'], dtype='<U10')"
      ]
     },
     "execution_count": 47,
     "metadata": {},
     "output_type": "execute_result"
    }
   ],
   "source": [
    "# data = np.zeros(4, dtype={'names': ('name', 'age', 'weight'),\n",
    "#                           'formats': ('U10', 'i4', 'f8')})\n",
    "\n",
    "\n",
    "\n",
    "\n",
    "dt=np.dtype([('name', 'U10'), ('age', 'i4'), ('weight', 'f8')])\n",
    "data = np.zeros(4, dtype=dt)\n",
    "\n",
    "\n",
    "\n",
    "print(data.dtype)\n",
    "data[0] = ('Ayush', 19, 50)\n",
    "data[1] = ('Ravi', 21, 60)\n",
    "data[3] = ('Laxmi',18,43)\n",
    "print(data)\n",
    "\n",
    "print(data['name'])\n",
    "print(data[3])\n",
    "\n",
    "data[data['age']>18]['name']\n"
   ]
  },
  {
   "cell_type": "code",
   "execution_count": 46,
   "id": "59c8bb06",
   "metadata": {},
   "outputs": [
    {
     "name": "stdout",
     "output_type": "stream",
     "text": [
      "[('Ayush', 19, 50.) ('Ravi', 21, 60.) ('Laxmi', 18, 43.)]\n"
     ]
    }
   ],
   "source": [
    "data = np.array([\n",
    "    ('Ayush', 19, 50.0),\n",
    "    ('Ravi', 21, 60.0),\n",
    "    ('Laxmi', 18, 43.0),\n",
    "], dtype=[('name', 'U10'), ('age', 'i4'), ('weight', 'f8')])\n",
    "print(data)"
   ]
  }
 ],
 "metadata": {
  "kernelspec": {
   "display_name": "venv",
   "language": "python",
   "name": "python3"
  },
  "language_info": {
   "codemirror_mode": {
    "name": "ipython",
    "version": 3
   },
   "file_extension": ".py",
   "mimetype": "text/x-python",
   "name": "python",
   "nbconvert_exporter": "python",
   "pygments_lexer": "ipython3",
   "version": "3.13.5"
  }
 },
 "nbformat": 4,
 "nbformat_minor": 5
}
